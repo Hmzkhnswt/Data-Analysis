{
 "cells": [
  {
   "cell_type": "code",
   "execution_count": 1,
   "id": "40fd02db-037f-45b5-a715-cce84dd2b558",
   "metadata": {},
   "outputs": [],
   "source": [
    "import numpy as np\n",
    "import pandas as pd\n"
   ]
  },
  {
   "cell_type": "code",
   "execution_count": 3,
   "id": "88ddcac2-303a-483c-a096-661321841c77",
   "metadata": {},
   "outputs": [],
   "source": [
    "data=pd.read_csv(\"vgsales.csv\")"
   ]
  },
  {
   "cell_type": "code",
   "execution_count": 4,
   "id": "12c045f2-7d33-47d7-8f8c-3ff957d0d745",
   "metadata": {},
   "outputs": [
    {
     "data": {
      "text/html": [
       "<div>\n",
       "<style scoped>\n",
       "    .dataframe tbody tr th:only-of-type {\n",
       "        vertical-align: middle;\n",
       "    }\n",
       "\n",
       "    .dataframe tbody tr th {\n",
       "        vertical-align: top;\n",
       "    }\n",
       "\n",
       "    .dataframe thead th {\n",
       "        text-align: right;\n",
       "    }\n",
       "</style>\n",
       "<table border=\"1\" class=\"dataframe\">\n",
       "  <thead>\n",
       "    <tr style=\"text-align: right;\">\n",
       "      <th></th>\n",
       "      <th>Rank</th>\n",
       "      <th>Name</th>\n",
       "      <th>Platform</th>\n",
       "      <th>Year</th>\n",
       "      <th>Genre</th>\n",
       "      <th>Publisher</th>\n",
       "      <th>NA_Sales</th>\n",
       "      <th>EU_Sales</th>\n",
       "      <th>JP_Sales</th>\n",
       "      <th>Other_Sales</th>\n",
       "      <th>Global_Sales</th>\n",
       "    </tr>\n",
       "  </thead>\n",
       "  <tbody>\n",
       "    <tr>\n",
       "      <th>0</th>\n",
       "      <td>1</td>\n",
       "      <td>Wii Sports</td>\n",
       "      <td>Wii</td>\n",
       "      <td>2006.0</td>\n",
       "      <td>Sports</td>\n",
       "      <td>Nintendo</td>\n",
       "      <td>41.49</td>\n",
       "      <td>29.02</td>\n",
       "      <td>3.77</td>\n",
       "      <td>8.46</td>\n",
       "      <td>82.74</td>\n",
       "    </tr>\n",
       "    <tr>\n",
       "      <th>1</th>\n",
       "      <td>2</td>\n",
       "      <td>Super Mario Bros.</td>\n",
       "      <td>NES</td>\n",
       "      <td>1985.0</td>\n",
       "      <td>Platform</td>\n",
       "      <td>Nintendo</td>\n",
       "      <td>29.08</td>\n",
       "      <td>3.58</td>\n",
       "      <td>6.81</td>\n",
       "      <td>0.77</td>\n",
       "      <td>40.24</td>\n",
       "    </tr>\n",
       "    <tr>\n",
       "      <th>2</th>\n",
       "      <td>3</td>\n",
       "      <td>Mario Kart Wii</td>\n",
       "      <td>Wii</td>\n",
       "      <td>2008.0</td>\n",
       "      <td>Racing</td>\n",
       "      <td>Nintendo</td>\n",
       "      <td>15.85</td>\n",
       "      <td>12.88</td>\n",
       "      <td>3.79</td>\n",
       "      <td>3.31</td>\n",
       "      <td>35.82</td>\n",
       "    </tr>\n",
       "    <tr>\n",
       "      <th>3</th>\n",
       "      <td>4</td>\n",
       "      <td>Wii Sports Resort</td>\n",
       "      <td>Wii</td>\n",
       "      <td>2009.0</td>\n",
       "      <td>Sports</td>\n",
       "      <td>Nintendo</td>\n",
       "      <td>15.75</td>\n",
       "      <td>11.01</td>\n",
       "      <td>3.28</td>\n",
       "      <td>2.96</td>\n",
       "      <td>33.00</td>\n",
       "    </tr>\n",
       "    <tr>\n",
       "      <th>4</th>\n",
       "      <td>5</td>\n",
       "      <td>Pokemon Red/Pokemon Blue</td>\n",
       "      <td>GB</td>\n",
       "      <td>1996.0</td>\n",
       "      <td>Role-Playing</td>\n",
       "      <td>Nintendo</td>\n",
       "      <td>11.27</td>\n",
       "      <td>8.89</td>\n",
       "      <td>10.22</td>\n",
       "      <td>1.00</td>\n",
       "      <td>31.37</td>\n",
       "    </tr>\n",
       "  </tbody>\n",
       "</table>\n",
       "</div>"
      ],
      "text/plain": [
       "   Rank                      Name Platform    Year         Genre Publisher   \n",
       "0     1                Wii Sports      Wii  2006.0        Sports  Nintendo  \\\n",
       "1     2         Super Mario Bros.      NES  1985.0      Platform  Nintendo   \n",
       "2     3            Mario Kart Wii      Wii  2008.0        Racing  Nintendo   \n",
       "3     4         Wii Sports Resort      Wii  2009.0        Sports  Nintendo   \n",
       "4     5  Pokemon Red/Pokemon Blue       GB  1996.0  Role-Playing  Nintendo   \n",
       "\n",
       "   NA_Sales  EU_Sales  JP_Sales  Other_Sales  Global_Sales  \n",
       "0     41.49     29.02      3.77         8.46         82.74  \n",
       "1     29.08      3.58      6.81         0.77         40.24  \n",
       "2     15.85     12.88      3.79         3.31         35.82  \n",
       "3     15.75     11.01      3.28         2.96         33.00  \n",
       "4     11.27      8.89     10.22         1.00         31.37  "
      ]
     },
     "execution_count": 4,
     "metadata": {},
     "output_type": "execute_result"
    }
   ],
   "source": [
    "data.head()\n"
   ]
  },
  {
   "cell_type": "code",
   "execution_count": 5,
   "id": "a2762714-25ee-40d9-aefe-0b089aef8e29",
   "metadata": {},
   "outputs": [
    {
     "data": {
      "text/plain": [
       "0        29.02\n",
       "1         3.58\n",
       "2        12.88\n",
       "3        11.01\n",
       "4         8.89\n",
       "         ...  \n",
       "16593     0.00\n",
       "16594     0.00\n",
       "16595     0.00\n",
       "16596     0.01\n",
       "16597     0.00\n",
       "Name: EU_Sales, Length: 16598, dtype: float64"
      ]
     },
     "execution_count": 5,
     "metadata": {},
     "output_type": "execute_result"
    }
   ],
   "source": [
    "data2=data[\"EU_Sales\"]   \n",
    "data2"
   ]
  },
  {
   "attachments": {},
   "cell_type": "markdown",
   "id": "ebfa722f",
   "metadata": {},
   "source": [
    "### Centeral Tendencies of One cloumn over the data set"
   ]
  },
  {
   "cell_type": "code",
   "execution_count": 6,
   "id": "01e8fbaf-2683-43c6-96ac-1d94e9e564d6",
   "metadata": {},
   "outputs": [],
   "source": [
    "mean=data2.mean()     \n",
    "median=data2.median()\n",
    "mode=data2.mode().iloc[0]"
   ]
  },
  {
   "cell_type": "code",
   "execution_count": 7,
   "id": "13f42961-1359-4263-b1b7-1a64a5b1274f",
   "metadata": {},
   "outputs": [
    {
     "name": "stdout",
     "output_type": "stream",
     "text": [
      "mean of UA_Sales is  0.14665200626581515\n",
      "median of UA_Sales is  0.02\n",
      "mode of UA_Sales is  0.0\n"
     ]
    }
   ],
   "source": [
    "print(\"mean of UA_Sales is \",mean)\n",
    "print(\"median of UA_Sales is \",median)\n",
    "print(\"mode of UA_Sales is \",mode)"
   ]
  },
  {
   "attachments": {},
   "cell_type": "markdown",
   "metadata": {},
   "source": [
    "### Dimvergence of the data"
   ]
  },
  {
   "cell_type": "code",
   "execution_count": 8,
   "id": "58d87090-fc32-45db-b157-c702a11d5989",
   "metadata": {},
   "outputs": [
    {
     "name": "stdout",
     "output_type": "stream",
     "text": [
      "range value is  29.02\n",
      "standard deviation is  0.5053512312869116\n",
      "Variance is: 0.2553644807801055\n",
      "Interquartile Range (IQR) is: 0.11\n"
     ]
    }
   ],
   "source": [
    "Range_value=data2.max()-data2.min()  \n",
    "Std_deviation=data2.std()\n",
    "\n",
    "# Calculate the variance\n",
    "variance = np.var(data2)\n",
    "\n",
    "# Calculate the interquartile range\n",
    "Q1 = np.percentile(data2, 25)  # Calculate the 25th percentile (Q1)\n",
    "Q3 = np.percentile(data2, 75)  # Calculate the 75th percentile (Q3)\n",
    "iqr = Q3 - Q1\n",
    "print(\"range value is \",Range_value)\n",
    "print(\"standard deviation is \",Std_deviation)\n",
    "print(\"Variance is:\", variance)\n",
    "print(\"Interquartile Range (IQR) is:\", iqr)"
   ]
  },
  {
   "cell_type": "code",
   "execution_count": 10,
   "id": "a9078cc0-aa39-425a-a0ab-7099854b0a85",
   "metadata": {},
   "outputs": [],
   "source": [
    "mean_UA_Sales = 0.14665200626581515\n",
    "median_UA_Sales = 0.02\n",
    "mode_UA_Sales = 0.0\n",
    "range_value = 29.02\n",
    "std_deviation = 0.5053512312869116\n",
    "variance = 0.2553644807801055\n",
    "iqr = 0.11\n"
   ]
  },
  {
   "attachments": {},
   "cell_type": "markdown",
   "id": "3d53ede1",
   "metadata": {},
   "source": [
    "### Summary of the data"
   ]
  },
  {
   "cell_type": "code",
   "execution_count": 13,
   "id": "dccc71a7-d837-4dba-aa7a-e6ea4106c60d",
   "metadata": {},
   "outputs": [
    {
     "name": "stdout",
     "output_type": "stream",
     "text": [
      "          Metric      Value\n",
      "0           Mean   0.146652\n",
      "1         Median   0.020000\n",
      "2           Mode   0.000000\n",
      "3          Range  29.020000\n",
      "4  Std Deviation   0.505351\n",
      "5       Variance   0.255364\n",
      "6            IQR   0.110000\n"
     ]
    }
   ],
   "source": [
    "import pandas as pd\n",
    "summary_df = pd.DataFrame({\n",
    "    'Metric': ['Mean', 'Median', 'Mode', 'Range', 'Std Deviation', 'Variance', 'IQR'],\n",
    "    'Value': [mean_UA_Sales, median_UA_Sales, mode_UA_Sales, range_value, std_deviation, variance, iqr]\n",
    "})\n",
    "\n",
    "print(summary_df)\n"
   ]
  }
 ],
 "metadata": {
  "kernelspec": {
   "display_name": "Python 3 (ipykernel)",
   "language": "python",
   "name": "python3"
  },
  "language_info": {
   "codemirror_mode": {
    "name": "ipython",
    "version": 3
   },
   "file_extension": ".py",
   "mimetype": "text/x-python",
   "name": "python",
   "nbconvert_exporter": "python",
   "pygments_lexer": "ipython3",
   "version": "3.10.11"
  }
 },
 "nbformat": 4,
 "nbformat_minor": 5
}
